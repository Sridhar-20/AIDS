{
 "cells": [
  {
   "cell_type": "markdown",
   "id": "f703cf8e",
   "metadata": {},
   "source": [
    "# Feature Selection in Machine Learning\n",
    "What is Feature Selection?\n",
    "\n",
    "    Feature selection is the process of choosing the most important features (variables) from a dataset to improve a machine\n",
    "    learning model's performance and efficiency. Instead of using all the features, we select only the most relevant ones \n",
    "    that contribute significantly to predictions.\n",
    "    \n",
    "Why Do We Need Feature Selection?\n",
    "\n",
    "1.Reduces overfitting\n",
    "\n",
    "    Too many irrelevant features can make a model complex and cause it to overfit the training data.\n",
    "    \n",
    "2.1mproves Model Performance\n",
    "\n",
    "    Selecting relevant features boosts accuracy and reduces unnecessary noise in the data.\n",
    "    \n",
    "3.Reduces Training Time\n",
    "\n",
    "Fewer features mean faster model training and lower computational cost.\n",
    "\n",
    "**Types of Feature Selection Methods**\n",
    " \n",
    "<ins>*Type => Filter Methods:*</ins>\n",
    " \n",
    "Method => Correlation, Chi-Square, Mutual Information.\n",
    " \n",
    "Description => Rank features based on statistical tests.\n",
    " \n",
    "<ins>*Type => Wrapper Methods:*</ins>\n",
    " \n",
    "Method => Forward/Backward Selection, Recursive Feature Elimination (RFE)\n",
    " \n",
    "Description => Train models with different feature subsets and select the best.\n",
    " \n",
    "<ins>*Type => Embedded Methods*</ins>\n",
    " \n",
    "Method =>Lasso Regression, Decision Trees\n",
    " \n",
    "Description =>Feature selection is built into the model training process.\n",
    " \n"
   ]
  },
  {
   "cell_type": "code",
   "execution_count": 4,
   "id": "ac1333b6",
   "metadata": {},
   "outputs": [],
   "source": [
    "import pandas as pd\n",
    "import numpy as np\n",
    "from sklearn.model_selection import train_test_split\n",
    "from sklearn.ensemble import RandomForestRegressor\n",
    "from sklearn.feature_selection import RFE\n",
    "from sklearn.linear_model import Lasso\n",
    "import seaborn as sns\n",
    "import matplotlib.pyplot as plt\n"
   ]
  },
  {
   "cell_type": "code",
   "execution_count": 15,
   "id": "fdeb3f43",
   "metadata": {},
   "outputs": [],
   "source": [
    "#step 1:create a sample dataset\n",
    "np.random.seed(42)\n",
    "data = pd.DataFrame({\n",
    "    'Size': np.random.randint(500, 5000, 100),  # Square feet\n",
    "    'Bedrooms': np.random.randint(1, 5, 100),  # Number of bedrooms \n",
    "    'Age': np.random.randint(1, 50, 100),  # Age\n",
    "    'Price': np.random.randint(100000, 500000, 100)  # House price\n",
    "})\n"
   ]
  },
  {
   "cell_type": "code",
   "execution_count": 18,
   "id": "a6236514",
   "metadata": {},
   "outputs": [
    {
     "data": {
      "text/html": [
       "<div>\n",
       "<style scoped>\n",
       "    .dataframe tbody tr th:only-of-type {\n",
       "        vertical-align: middle;\n",
       "    }\n",
       "\n",
       "    .dataframe tbody tr th {\n",
       "        vertical-align: top;\n",
       "    }\n",
       "\n",
       "    .dataframe thead th {\n",
       "        text-align: right;\n",
       "    }\n",
       "</style>\n",
       "<table border=\"1\" class=\"dataframe\">\n",
       "  <thead>\n",
       "    <tr style=\"text-align: right;\">\n",
       "      <th></th>\n",
       "      <th>Size</th>\n",
       "      <th>Bedrooms</th>\n",
       "      <th>Age</th>\n",
       "      <th>Price</th>\n",
       "    </tr>\n",
       "  </thead>\n",
       "  <tbody>\n",
       "    <tr>\n",
       "      <th>0</th>\n",
       "      <td>1360</td>\n",
       "      <td>3</td>\n",
       "      <td>2</td>\n",
       "      <td>194179</td>\n",
       "    </tr>\n",
       "    <tr>\n",
       "      <th>1</th>\n",
       "      <td>4272</td>\n",
       "      <td>3</td>\n",
       "      <td>2</td>\n",
       "      <td>190272</td>\n",
       "    </tr>\n",
       "    <tr>\n",
       "      <th>2</th>\n",
       "      <td>3592</td>\n",
       "      <td>2</td>\n",
       "      <td>28</td>\n",
       "      <td>138467</td>\n",
       "    </tr>\n",
       "    <tr>\n",
       "      <th>3</th>\n",
       "      <td>966</td>\n",
       "      <td>2</td>\n",
       "      <td>23</td>\n",
       "      <td>385472</td>\n",
       "    </tr>\n",
       "    <tr>\n",
       "      <th>4</th>\n",
       "      <td>4926</td>\n",
       "      <td>4</td>\n",
       "      <td>37</td>\n",
       "      <td>453556</td>\n",
       "    </tr>\n",
       "  </tbody>\n",
       "</table>\n",
       "</div>"
      ],
      "text/plain": [
       "   Size  Bedrooms  Age   Price\n",
       "0  1360         3    2  194179\n",
       "1  4272         3    2  190272\n",
       "2  3592         2   28  138467\n",
       "3   966         2   23  385472\n",
       "4  4926         4   37  453556"
      ]
     },
     "execution_count": 18,
     "metadata": {},
     "output_type": "execute_result"
    }
   ],
   "source": [
    "data.head()"
   ]
  },
  {
   "cell_type": "code",
   "execution_count": 19,
   "id": "f3f50fbb",
   "metadata": {},
   "outputs": [
    {
     "data": {
      "text/html": [
       "<div>\n",
       "<style scoped>\n",
       "    .dataframe tbody tr th:only-of-type {\n",
       "        vertical-align: middle;\n",
       "    }\n",
       "\n",
       "    .dataframe tbody tr th {\n",
       "        vertical-align: top;\n",
       "    }\n",
       "\n",
       "    .dataframe thead th {\n",
       "        text-align: right;\n",
       "    }\n",
       "</style>\n",
       "<table border=\"1\" class=\"dataframe\">\n",
       "  <thead>\n",
       "    <tr style=\"text-align: right;\">\n",
       "      <th></th>\n",
       "      <th>Size</th>\n",
       "      <th>Bedrooms</th>\n",
       "      <th>Age</th>\n",
       "      <th>Price</th>\n",
       "    </tr>\n",
       "  </thead>\n",
       "  <tbody>\n",
       "    <tr>\n",
       "      <th>95</th>\n",
       "      <td>1528</td>\n",
       "      <td>1</td>\n",
       "      <td>18</td>\n",
       "      <td>364512</td>\n",
       "    </tr>\n",
       "    <tr>\n",
       "      <th>96</th>\n",
       "      <td>1002</td>\n",
       "      <td>4</td>\n",
       "      <td>2</td>\n",
       "      <td>177575</td>\n",
       "    </tr>\n",
       "    <tr>\n",
       "      <th>97</th>\n",
       "      <td>4993</td>\n",
       "      <td>1</td>\n",
       "      <td>35</td>\n",
       "      <td>368799</td>\n",
       "    </tr>\n",
       "    <tr>\n",
       "      <th>98</th>\n",
       "      <td>1370</td>\n",
       "      <td>3</td>\n",
       "      <td>16</td>\n",
       "      <td>337549</td>\n",
       "    </tr>\n",
       "    <tr>\n",
       "      <th>99</th>\n",
       "      <td>4988</td>\n",
       "      <td>1</td>\n",
       "      <td>41</td>\n",
       "      <td>170031</td>\n",
       "    </tr>\n",
       "  </tbody>\n",
       "</table>\n",
       "</div>"
      ],
      "text/plain": [
       "    Size  Bedrooms  Age   Price\n",
       "95  1528         1   18  364512\n",
       "96  1002         4    2  177575\n",
       "97  4993         1   35  368799\n",
       "98  1370         3   16  337549\n",
       "99  4988         1   41  170031"
      ]
     },
     "execution_count": 19,
     "metadata": {},
     "output_type": "execute_result"
    }
   ],
   "source": [
    "data.tail()"
   ]
  },
  {
   "cell_type": "code",
   "execution_count": 23,
   "id": "9b4bcb4f",
   "metadata": {},
   "outputs": [
    {
     "data": {
      "image/png": "[encoded data removed]",
      "text/plain": [
       "<Figure size 800x500 with 2 Axes>"
      ]
     },
     "metadata": {},
     "output_type": "display_data"
    }
   ],
   "source": [
    "#compute Correlation Matrix\n",
    "plt.figure(figsize=(8,5))\n",
    "sns.heatmap(data.corr(),annot=True,cmap='coolwarm',fmt='.2f')\n",
    "plt.title('Feature Correlation Matrix')\n",
    "plt.show()"
   ]
  },
  {
   "cell_type": "code",
   "execution_count": 24,
   "id": "833efa6d",
   "metadata": {},
   "outputs": [
    {
     "name": "stdout",
     "output_type": "stream",
     "text": [
      "Selected Features using RFE: Index(['Size', 'Age'], dtype='object')\n"
     ]
    }
   ],
   "source": [
    "#step 3:apply Recursive Feature Elimination(Wrapper Method)\n",
    "X = df.drop(columns=['Price'])  # All columns except 'Price' are features\n",
    "y = df['Price']  # target variable\n",
    "model = RandomForestRegressor()\n",
    "\n",
    "# Apply RFE (Recursive Feature Elimination) to select top 2 features\n",
    "rfe = RFE(model, n_features_to_select=2)\n",
    "rfe.fit(X, y)\n",
    "\n",
    "# Print the selected features using RFE\n",
    "print(\"Selected Features using RFE:\", X.columns[rfe.support_])"
   ]
  },
  {
   "cell_type": "code",
   "execution_count": 25,
   "id": "32fc1c8e",
   "metadata": {},
   "outputs": [
    {
     "name": "stdout",
     "output_type": "stream",
     "text": [
      "Selected Features using Lasso: Index(['Size', 'Bedrooms', 'Age'], dtype='object')\n"
     ]
    }
   ],
   "source": [
    "#Lasso Regression (Embedded Method)\n",
    "# Initialize Lasso model\n",
    "lasso = Lasso(alpha=0.1)  # Alpha is the regularization parameter, you can tune this\n",
    "\n",
    "# Fit the Lasso model\n",
    "lasso.fit(X, y)\n",
    "\n",
    "# Get the absolute values of the coefficients to determine feature importance\n",
    "importance = np.abs(lasso.coef_)\n",
    "\n",
    "# Select features that have non-zero importance\n",
    "selected_features = X.columns[importance > 0]\n",
    "\n",
    "# Display the selected features\n",
    "print(\"Selected Features using Lasso:\", selected_features)"
   ]
  },
  {
   "cell_type": "code",
   "execution_count": null,
   "id": "fe5dabcb",
   "metadata": {},
   "outputs": [],
   "source": []
  }
 ],
 "metadata": {
  "kernelspec": {
   "display_name": "Python 3 (ipykernel)",
   "language": "python",
   "name": "python3"
  },
  "language_info": {
   "codemirror_mode": {
    "name": "ipython",
    "version": 3
   },
   "file_extension": ".py",
   "mimetype": "text/x-python",
   "name": "python",
   "nbconvert_exporter": "python",
   "pygments_lexer": "ipython3",
   "version": "3.11.5"
  }
 },
 "nbformat": 4,
 "nbformat_minor": 5
}
