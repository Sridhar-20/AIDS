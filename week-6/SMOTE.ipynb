{
 "cells": [
  {
   "cell_type": "markdown",
   "id": "56878926",
   "metadata": {},
   "source": [
    "1 .SMOTE to generate synthetic samples instead of duplicating existing ones.\n",
    "\n",
    "2.Convert categorical class labels into numeric form for SMOTE to work.\n",
    "\n",
    "3.Apply SMOTE to balance the dataset.\n",
    "\n",
    "4.Convert back to original categorical labels.\n",
    "\n",
    "5.Combine the resampled data into a final balanced dataset."
   ]
  },
  {
   "cell_type": "code",
   "execution_count": null,
   "id": "c01f2a9f",
   "metadata": {},
   "outputs": [],
   "source": [
    "\n",
    "import pandas as pd\n",
    "from imblearn.over_sampling import SMOTE\n",
    "df = pd.DataFrame({\n",
    "    'Age': [22, 25, 27, 28, 30, 35, 40, 45, 50, 55, 60, 65, 70],\n",
    "    'Income': [2000, 2500, 2700, 3200, 3500, 3800, 4000, 4300, 4500, 4800, 5000, 5300, 5500],\n",
    "    'Class': ['Minority', 'Minority', 'Minority', 'Minority', 'Majority', 'Majority', 'Majority', 'Majority', \n",
    "              'Majority', 'Majority', 'Majority', 'Majority', 'Majority']\n",
    "})"
   ]
  },
  {
   "cell_type": "code",
   "execution_count": 3,
   "id": "3976c0c1",
   "metadata": {},
   "outputs": [
    {
     "name": "stdout",
     "output_type": "stream",
     "text": [
      "    Age  Income     Class\n",
      "0    22    2000  Minority\n",
      "1    25    2500  Minority\n",
      "2    27    2700  Minority\n",
      "3    28    3200  Minority\n",
      "4    30    3500  Majority\n",
      "5    35    3800  Majority\n",
      "6    40    4000  Majority\n",
      "7    45    4300  Majority\n",
      "8    50    4500  Majority\n",
      "9    55    4800  Majority\n",
      "10   60    5000  Majority\n",
      "11   65    5300  Majority\n",
      "12   70    5500  Majority\n",
      "13   26    2668  Minority\n",
      "14   25    2531  Minority\n",
      "15   27    3159  Minority\n",
      "16   27    3133  Minority\n",
      "17   23    2199  Minority\n"
     ]
    }
   ],
   "source": [
    "# Step 1: Convert categorical labels to numerical values (Majority -> 0, Minority -> 1)\n",
    "df['Class'] = df['Class'].map({'Majority': 0, 'Minority': 1})\n",
    "\n",
    "# Step 2: Split features (X) and target variable (y)\n",
    "X = df[['Age', 'Income']]  # Features\n",
    "y = df['Class']  # Target variable\n",
    "\n",
    "# Step 3: Apply SMOTE with k_neighbors=3 (reducing from default 5)\n",
    "smote = SMOTE(sampling_strategy='auto', random_state=42, k_neighbors=3)\n",
    "X_resampled, y_resampled = smote.fit_resample(X, y)\n",
    "\n",
    "# Step 4: Convert numeric labels back to categorical\n",
    "y_resampled = y_resampled.map({0: 'Majority', 1: 'Minority'})\n",
    "\n",
    "# Step 5: Combine the resampled dataset\n",
    "df_resampled = pd.DataFrame(X_resampled, columns=['Age', 'Income'])\n",
    "df_resampled['Class'] = y_resampled\n",
    "\n",
    "# Print the balanced dataset\n",
    "print(df_resampled)\n"
   ]
  },
  {
   "cell_type": "code",
   "execution_count": null,
   "id": "f239fbf1",
   "metadata": {},
   "outputs": [],
   "source": []
  }
 ],
 "metadata": {
  "kernelspec": {
   "display_name": "Python 3 (ipykernel)",
   "language": "python",
   "name": "python3"
  },
  "language_info": {
   "codemirror_mode": {
    "name": "ipython",
    "version": 3
   },
   "file_extension": ".py",
   "mimetype": "text/x-python",
   "name": "python",
   "nbconvert_exporter": "python",
   "pygments_lexer": "ipython3",
   "version": "3.11.5"
  }
 },
 "nbformat": 4,
 "nbformat_minor": 5
}
