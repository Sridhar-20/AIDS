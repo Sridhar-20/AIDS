{
 "cells": [
  {
   "cell_type": "markdown",
   "id": "941aa511-f9ba-4f8c-85fb-0b776f5b9a03",
   "metadata": {},
   "source": [
    "# **Assignment on Uber dataset**"
   ]
  },
  {
   "cell_type": "markdown",
   "id": "e9ccc14f-4a6d-48b9-9937-b6373ad64145",
   "metadata": {},
   "source": [
    "**Load the dataset**"
   ]
  },
  {
   "cell_type": "code",
   "execution_count": 7,
   "id": "a34ffa5a-50f5-4451-8ed8-e6f44a7419b1",
   "metadata": {},
   "outputs": [],
   "source": [
    "import pandas as pd\n",
    "df=pd.read_csv(\"Uber.csv\")"
   ]
  },
  {
   "cell_type": "markdown",
   "id": "a589e8f4-ce40-468d-b563-c873eddf171b",
   "metadata": {},
   "source": [
    "**Display basic info about dataset**"
   ]
  },
  {
   "cell_type": "code",
   "execution_count": 8,
   "id": "fe004ecf-d5b4-4f01-817a-56be0681763a",
   "metadata": {},
   "outputs": [
    {
     "name": "stdout",
     "output_type": "stream",
     "text": [
      "<class 'pandas.core.frame.DataFrame'>\n",
      "RangeIndex: 1156 entries, 0 to 1155\n",
      "Data columns (total 7 columns):\n",
      " #   Column       Non-Null Count  Dtype  \n",
      "---  ------       --------------  -----  \n",
      " 0   START_DATE*  1156 non-null   object \n",
      " 1   END_DATE*    1155 non-null   object \n",
      " 2   CATEGORY*    1155 non-null   object \n",
      " 3   START*       1155 non-null   object \n",
      " 4   STOP*        1155 non-null   object \n",
      " 5   MILES*       1156 non-null   float64\n",
      " 6   PURPOSE*     653 non-null    object \n",
      "dtypes: float64(1), object(6)\n",
      "memory usage: 63.3+ KB\n"
     ]
    },
    {
     "data": {
      "text/html": [
       "<div>\n",
       "<style scoped>\n",
       "    .dataframe tbody tr th:only-of-type {\n",
       "        vertical-align: middle;\n",
       "    }\n",
       "\n",
       "    .dataframe tbody tr th {\n",
       "        vertical-align: top;\n",
       "    }\n",
       "\n",
       "    .dataframe thead th {\n",
       "        text-align: right;\n",
       "    }\n",
       "</style>\n",
       "<table border=\"1\" class=\"dataframe\">\n",
       "  <thead>\n",
       "    <tr style=\"text-align: right;\">\n",
       "      <th></th>\n",
       "      <th>START_DATE*</th>\n",
       "      <th>END_DATE*</th>\n",
       "      <th>CATEGORY*</th>\n",
       "      <th>START*</th>\n",
       "      <th>STOP*</th>\n",
       "      <th>MILES*</th>\n",
       "      <th>PURPOSE*</th>\n",
       "    </tr>\n",
       "  </thead>\n",
       "  <tbody>\n",
       "    <tr>\n",
       "      <th>0</th>\n",
       "      <td>1/1/2016 21:11</td>\n",
       "      <td>1/1/2016 21:17</td>\n",
       "      <td>Business</td>\n",
       "      <td>Fort Pierce</td>\n",
       "      <td>Fort Pierce</td>\n",
       "      <td>5.1</td>\n",
       "      <td>Meal/Entertain</td>\n",
       "    </tr>\n",
       "    <tr>\n",
       "      <th>1</th>\n",
       "      <td>1/2/2016 1:25</td>\n",
       "      <td>1/2/2016 1:37</td>\n",
       "      <td>Business</td>\n",
       "      <td>Fort Pierce</td>\n",
       "      <td>Fort Pierce</td>\n",
       "      <td>5.0</td>\n",
       "      <td>NaN</td>\n",
       "    </tr>\n",
       "    <tr>\n",
       "      <th>2</th>\n",
       "      <td>1/2/2016 20:25</td>\n",
       "      <td>1/2/2016 20:38</td>\n",
       "      <td>Business</td>\n",
       "      <td>Fort Pierce</td>\n",
       "      <td>Fort Pierce</td>\n",
       "      <td>4.8</td>\n",
       "      <td>Errand/Supplies</td>\n",
       "    </tr>\n",
       "    <tr>\n",
       "      <th>3</th>\n",
       "      <td>1/5/2016 17:31</td>\n",
       "      <td>1/5/2016 17:45</td>\n",
       "      <td>Business</td>\n",
       "      <td>Fort Pierce</td>\n",
       "      <td>Fort Pierce</td>\n",
       "      <td>4.7</td>\n",
       "      <td>Meeting</td>\n",
       "    </tr>\n",
       "    <tr>\n",
       "      <th>4</th>\n",
       "      <td>1/6/2016 14:42</td>\n",
       "      <td>1/6/2016 15:49</td>\n",
       "      <td>Business</td>\n",
       "      <td>Fort Pierce</td>\n",
       "      <td>West Palm Beach</td>\n",
       "      <td>63.7</td>\n",
       "      <td>Customer Visit</td>\n",
       "    </tr>\n",
       "    <tr>\n",
       "      <th>5</th>\n",
       "      <td>1/6/2016 17:15</td>\n",
       "      <td>1/6/2016 17:19</td>\n",
       "      <td>Business</td>\n",
       "      <td>West Palm Beach</td>\n",
       "      <td>West Palm Beach</td>\n",
       "      <td>4.3</td>\n",
       "      <td>Meal/Entertain</td>\n",
       "    </tr>\n",
       "    <tr>\n",
       "      <th>6</th>\n",
       "      <td>1/6/2016 17:30</td>\n",
       "      <td>1/6/2016 17:35</td>\n",
       "      <td>Business</td>\n",
       "      <td>West Palm Beach</td>\n",
       "      <td>Palm Beach</td>\n",
       "      <td>7.1</td>\n",
       "      <td>Meeting</td>\n",
       "    </tr>\n",
       "    <tr>\n",
       "      <th>7</th>\n",
       "      <td>1/7/2016 13:27</td>\n",
       "      <td>1/7/2016 13:33</td>\n",
       "      <td>Business</td>\n",
       "      <td>Cary</td>\n",
       "      <td>Cary</td>\n",
       "      <td>0.8</td>\n",
       "      <td>Meeting</td>\n",
       "    </tr>\n",
       "    <tr>\n",
       "      <th>8</th>\n",
       "      <td>1/10/2016 8:05</td>\n",
       "      <td>1/10/2016 8:25</td>\n",
       "      <td>Business</td>\n",
       "      <td>Cary</td>\n",
       "      <td>Morrisville</td>\n",
       "      <td>8.3</td>\n",
       "      <td>Meeting</td>\n",
       "    </tr>\n",
       "    <tr>\n",
       "      <th>9</th>\n",
       "      <td>1/10/2016 12:17</td>\n",
       "      <td>1/10/2016 12:44</td>\n",
       "      <td>Business</td>\n",
       "      <td>Jamaica</td>\n",
       "      <td>New York</td>\n",
       "      <td>16.5</td>\n",
       "      <td>Customer Visit</td>\n",
       "    </tr>\n",
       "  </tbody>\n",
       "</table>\n",
       "</div>"
      ],
      "text/plain": [
       "       START_DATE*        END_DATE* CATEGORY*           START*  \\\n",
       "0   1/1/2016 21:11   1/1/2016 21:17  Business      Fort Pierce   \n",
       "1    1/2/2016 1:25    1/2/2016 1:37  Business      Fort Pierce   \n",
       "2   1/2/2016 20:25   1/2/2016 20:38  Business      Fort Pierce   \n",
       "3   1/5/2016 17:31   1/5/2016 17:45  Business      Fort Pierce   \n",
       "4   1/6/2016 14:42   1/6/2016 15:49  Business      Fort Pierce   \n",
       "5   1/6/2016 17:15   1/6/2016 17:19  Business  West Palm Beach   \n",
       "6   1/6/2016 17:30   1/6/2016 17:35  Business  West Palm Beach   \n",
       "7   1/7/2016 13:27   1/7/2016 13:33  Business             Cary   \n",
       "8   1/10/2016 8:05   1/10/2016 8:25  Business             Cary   \n",
       "9  1/10/2016 12:17  1/10/2016 12:44  Business          Jamaica   \n",
       "\n",
       "             STOP*  MILES*         PURPOSE*  \n",
       "0      Fort Pierce     5.1   Meal/Entertain  \n",
       "1      Fort Pierce     5.0              NaN  \n",
       "2      Fort Pierce     4.8  Errand/Supplies  \n",
       "3      Fort Pierce     4.7          Meeting  \n",
       "4  West Palm Beach    63.7   Customer Visit  \n",
       "5  West Palm Beach     4.3   Meal/Entertain  \n",
       "6       Palm Beach     7.1          Meeting  \n",
       "7             Cary     0.8          Meeting  \n",
       "8      Morrisville     8.3          Meeting  \n",
       "9         New York    16.5   Customer Visit  "
      ]
     },
     "execution_count": 8,
     "metadata": {},
     "output_type": "execute_result"
    }
   ],
   "source": [
    "df.info()\n",
    "df.head(10)"
   ]
  },
  {
   "cell_type": "markdown",
   "id": "0dba6eff-7805-45fa-8272-76f9b11fbb0b",
   "metadata": {},
   "source": [
    "**Check for missing values**"
   ]
  },
  {
   "cell_type": "code",
   "execution_count": 9,
   "id": "d9565cc7-c276-422a-883f-cd731ceb163a",
   "metadata": {},
   "outputs": [
    {
     "data": {
      "text/plain": [
       "START_DATE*      0\n",
       "END_DATE*        1\n",
       "CATEGORY*        1\n",
       "START*           1\n",
       "STOP*            1\n",
       "MILES*           0\n",
       "PURPOSE*       503\n",
       "dtype: int64"
      ]
     },
     "execution_count": 9,
     "metadata": {},
     "output_type": "execute_result"
    }
   ],
   "source": [
    "df.isna().sum()"
   ]
  },
  {
   "cell_type": "markdown",
   "id": "a58c1ca3-cae2-412a-8bd3-65cac83dcdd2",
   "metadata": {},
   "source": [
    "**Drop rows with missing values**"
   ]
  },
  {
   "cell_type": "code",
   "execution_count": 10,
   "id": "7e610261-c70f-4297-b9be-370881444bc9",
   "metadata": {},
   "outputs": [],
   "source": [
    "# df=df.dropna()\n",
    "# df.isna().sum()"
   ]
  },
  {
   "cell_type": "markdown",
   "id": "553b0fa2-e237-4f3d-824f-812b15aa79f3",
   "metadata": {},
   "source": [
    "**fill missing values (propose column with unknown value)**"
   ]
  },
  {
   "cell_type": "code",
   "execution_count": 13,
   "id": "1f85afa3-ea43-4ccc-bd45-b7b8e1d7b0b9",
   "metadata": {},
   "outputs": [
    {
     "data": {
      "text/plain": [
       "START_DATE*    0\n",
       "END_DATE*      0\n",
       "CATEGORY*      0\n",
       "START*         0\n",
       "STOP*          0\n",
       "MILES*         0\n",
       "PURPOSE*       0\n",
       "dtype: int64"
      ]
     },
     "execution_count": 13,
     "metadata": {},
     "output_type": "execute_result"
    }
   ],
   "source": [
    "df['END_DATE*'].fillna(df['END_DATE*'].mode()[0],inplace=True)\n",
    "df['CATEGORY*'].fillna(df['CATEGORY*'].mode()[0],inplace=True)\n",
    "df['START*'].fillna(df['START*'].mode()[0],inplace=True)\n",
    "df['STOP*'].fillna(df['STOP*'].mode()[0],inplace=True)\n",
    "df['MILES*'].fillna(df['MILES*'].mean())\n",
    "df['PURPOSE*'].fillna(df['PURPOSE*'].mode()[0],inplace=True)\n",
    "df.isna().sum()"
   ]
  },
  {
   "cell_type": "markdown",
   "id": "2c3f9b9f-8cc4-46d0-bc19-d0986d7895c4",
   "metadata": {},
   "source": [
    "**Check and remove duplicates**"
   ]
  },
  {
   "cell_type": "code",
   "execution_count": 15,
   "id": "94e58632-b9ce-4be0-8f71-5a81b4dd88cd",
   "metadata": {},
   "outputs": [
    {
     "name": "stdout",
     "output_type": "stream",
     "text": [
      "         START_DATE*        END_DATE* CATEGORY*  START* STOP*  MILES* PURPOSE*\n",
      "492  6/28/2016 23:34  6/28/2016 23:59  Business  Durham  Cary     9.9  Meeting\n"
     ]
    }
   ],
   "source": [
    "duplicate=df[df.duplicated()]\n",
    "print(duplicate)"
   ]
  },
  {
   "cell_type": "code",
   "execution_count": 17,
   "id": "76215668-c702-461b-872e-83ab303880cb",
   "metadata": {},
   "outputs": [
    {
     "name": "stdout",
     "output_type": "stream",
     "text": [
      "Empty DataFrame\n",
      "Columns: [START_DATE*, END_DATE*, CATEGORY*, START*, STOP*, MILES*, PURPOSE*]\n",
      "Index: []\n"
     ]
    }
   ],
   "source": [
    "df.drop_duplicates(keep=\"first\",inplace=True,ignore_index=True)\n",
    "duplicate=df[df.duplicated()]\n",
    "print(duplicate)"
   ]
  },
  {
   "cell_type": "markdown",
   "id": "0a27bdb3-ade2-40b0-b06f-8a02ede5980a",
   "metadata": {},
   "source": [
    "**Convert START_DATE and END_DATE to datetime**"
   ]
  },
  {
   "cell_type": "code",
   "execution_count": 19,
   "id": "effc5d74-284f-470d-9784-8ae321a4a774",
   "metadata": {},
   "outputs": [
    {
     "data": {
      "text/plain": [
       "START_DATE*            object\n",
       "END_DATE*              object\n",
       "CATEGORY*              object\n",
       "START*                 object\n",
       "STOP*                  object\n",
       "MILES*                float64\n",
       "PURPOSE*               object\n",
       "START_DATE     datetime64[ns]\n",
       "dtype: object"
      ]
     },
     "execution_count": 19,
     "metadata": {},
     "output_type": "execute_result"
    }
   ],
   "source": [
    "df['START_DATE']=pd.to_datetime(df['START_DATE*'], format='%m/%d/%Y %H:%M',errors='coerce')\n",
    "df.dtypes"
   ]
  },
  {
   "cell_type": "code",
   "execution_count": 20,
   "id": "59c684a6-d034-4ac8-b4cf-b86eeef5fc9c",
   "metadata": {},
   "outputs": [
    {
     "data": {
      "text/plain": [
       "START_DATE*            object\n",
       "END_DATE*              object\n",
       "CATEGORY*              object\n",
       "START*                 object\n",
       "STOP*                  object\n",
       "MILES*                float64\n",
       "PURPOSE*               object\n",
       "START_DATE     datetime64[ns]\n",
       "END_DATE       datetime64[ns]\n",
       "dtype: object"
      ]
     },
     "execution_count": 20,
     "metadata": {},
     "output_type": "execute_result"
    }
   ],
   "source": [
    "df['END_DATE']=pd.to_datetime(df['END_DATE*'], format='%m/%d/%Y %H:%M',errors='coerce')\n",
    "df.dtypes"
   ]
  },
  {
   "cell_type": "markdown",
   "id": "95dfc783-1db4-4010-a085-23a653ea83d0",
   "metadata": {},
   "source": [
    "**Total number of rides per category:**"
   ]
  },
  {
   "cell_type": "code",
   "execution_count": 21,
   "id": "e5cba9c3-7988-4d66-9306-5b95131dd111",
   "metadata": {},
   "outputs": [
    {
     "name": "stdout",
     "output_type": "stream",
     "text": [
      "CATEGORY*\n",
      "Business    1078\n",
      "Personal      77\n",
      "dtype: int64\n"
     ]
    }
   ],
   "source": [
    "rides_per_category = df.groupby('CATEGORY*').size()\n",
    "print(rides_per_category)"
   ]
  },
  {
   "cell_type": "markdown",
   "id": "df33aac2-ffb5-4ec5-9498-652a0eb957d9",
   "metadata": {},
   "source": [
    "**Total miles traveled for each purpose:**"
   ]
  },
  {
   "cell_type": "code",
   "execution_count": 26,
   "id": "6cea5c61-d84e-4eaf-8fde-23ec8b1f2a2c",
   "metadata": {
    "scrolled": true
   },
   "outputs": [
    {
     "name": "stdout",
     "output_type": "stream",
     "text": [
      "total miles traveled for each purpose PURPOSE*\n",
      "Airport/Travel        16.5\n",
      "Between Offices      197.0\n",
      "Charity ($)           15.1\n",
      "Commute              180.2\n",
      "Customer Visit      2089.5\n",
      "Errand/Supplies      508.0\n",
      "Meal/Entertain       911.7\n",
      "Meeting            19939.6\n",
      "Moving                18.2\n",
      "Temporary Site       523.7\n",
      "Name: MILES*, dtype: float64\n"
     ]
    }
   ],
   "source": [
    "total_miles_traveled_purpose=df.groupby('PURPOSE*')['MILES*'].sum()\n",
    "print(f'total miles traveled for each purpose {total_miles_traveled_purpose}')"
   ]
  },
  {
   "cell_type": "markdown",
   "id": "0038c354-db08-44a6-90b4-3c307431960d",
   "metadata": {},
   "source": [
    "**Average distance for business vs. personal rides:**"
   ]
  },
  {
   "cell_type": "code",
   "execution_count": 28,
   "id": "81c4d609-c7fa-44a7-b7f1-29a996a068c8",
   "metadata": {},
   "outputs": [
    {
     "name": "stdout",
     "output_type": "stream",
     "text": [
      "CATEGORY*\n",
      "Business    21.968275\n",
      "Personal     9.320779\n",
      "Name: MILES*, dtype: float64\n"
     ]
    }
   ],
   "source": [
    "res=df.groupby('CATEGORY*')['MILES*'].mean()\n",
    "print(res)"
   ]
  },
  {
   "cell_type": "markdown",
   "id": "b5ce5c6c-b9ba-4c8f-a371-d3d8ff76ce06",
   "metadata": {},
   "source": [
    "**Add a column for cost estimation (assuming $2 per mile):**"
   ]
  },
  {
   "cell_type": "code",
   "execution_count": 37,
   "id": "d727f17e-f0a9-4168-9a4d-bd0c5b118e11",
   "metadata": {},
   "outputs": [
    {
     "name": "stdout",
     "output_type": "stream",
     "text": [
      "      START_DATE*       END_DATE* CATEGORY*       START*            STOP*  \\\n",
      "0  1/1/2016 21:11  1/1/2016 21:17  Business  Fort Pierce      Fort Pierce   \n",
      "1   1/2/2016 1:25   1/2/2016 1:37  Business  Fort Pierce      Fort Pierce   \n",
      "2  1/2/2016 20:25  1/2/2016 20:38  Business  Fort Pierce      Fort Pierce   \n",
      "3  1/5/2016 17:31  1/5/2016 17:45  Business  Fort Pierce      Fort Pierce   \n",
      "4  1/6/2016 14:42  1/6/2016 15:49  Business  Fort Pierce  West Palm Beach   \n",
      "\n",
      "   MILES*         PURPOSE*          START_DATE            END_DATE  \\\n",
      "0     5.1   Meal/Entertain 2016-01-01 21:11:00 2016-01-01 21:17:00   \n",
      "1     5.0          Meeting 2016-01-02 01:25:00 2016-01-02 01:37:00   \n",
      "2     4.8  Errand/Supplies 2016-01-02 20:25:00 2016-01-02 20:38:00   \n",
      "3     4.7          Meeting 2016-01-05 17:31:00 2016-01-05 17:45:00   \n",
      "4    63.7   Customer Visit 2016-01-06 14:42:00 2016-01-06 15:49:00   \n",
      "\n",
      "   COST_ESTIMATION*  \n",
      "0              10.2  \n",
      "1              10.0  \n",
      "2               9.6  \n",
      "3               9.4  \n",
      "4             127.4  \n"
     ]
    }
   ],
   "source": [
    "import numpy as np\n",
    "df['COST_ESTIMATION*']=(df['MILES*']*2)\n",
    "print(df.head(5))"
   ]
  },
  {
   "cell_type": "markdown",
   "id": "8e7c7766-dc43-43bf-bf95-bd52e37b1657",
   "metadata": {},
   "source": [
    "**Filter rides longer than 50 miles:**"
   ]
  },
  {
   "cell_type": "code",
   "execution_count": 39,
   "id": "f1452c30-ba23-4153-b83c-efefa820123d",
   "metadata": {},
   "outputs": [
    {
     "name": "stdout",
     "output_type": "stream",
     "text": [
      "           START_DATE*         END_DATE* CATEGORY*            START*  \\\n",
      "4       1/6/2016 14:42    1/6/2016 15:49  Business       Fort Pierce   \n",
      "232    3/17/2016 12:52   3/17/2016 15:11  Business            Austin   \n",
      "251    3/19/2016 19:33   3/19/2016 20:39  Business         Galveston   \n",
      "268    3/25/2016 13:24   3/25/2016 16:22  Business              Cary   \n",
      "269    3/25/2016 16:52   3/25/2016 22:22  Business             Latta   \n",
      "270    3/25/2016 22:54    3/26/2016 1:39  Business      Jacksonville   \n",
      "295     4/2/2016 12:21    4/2/2016 14:47  Business         Kissimmee   \n",
      "296     4/2/2016 16:57    4/2/2016 18:09  Business     Daytona Beach   \n",
      "297     4/2/2016 19:38    4/2/2016 22:36  Business      Jacksonville   \n",
      "298     4/2/2016 23:11     4/3/2016 1:34  Business         Ridgeland   \n",
      "299      4/3/2016 2:00     4/3/2016 4:16  Business          Florence   \n",
      "545    7/14/2016 16:39   7/14/2016 20:05  Business       Morrisville   \n",
      "558    7/17/2016 12:20   7/17/2016 15:25  Personal             Boone   \n",
      "706    8/24/2016 13:01   8/24/2016 15:25  Business  Unknown Location   \n",
      "709    8/25/2016 17:19   8/25/2016 19:20  Business  Unknown Location   \n",
      "725    8/27/2016 14:01   8/27/2016 15:44  Business            Lahore   \n",
      "726    8/27/2016 16:15   8/27/2016 19:13  Business  Unknown Location   \n",
      "750     9/6/2016 17:49    9/6/2016 17:49  Business  Unknown Location   \n",
      "775    9/27/2016 21:01    9/28/2016 2:37  Business  Unknown Location   \n",
      "787    10/6/2016 17:23   10/6/2016 17:40  Business        R?walpindi   \n",
      "868   10/28/2016 15:53  10/28/2016 17:59  Business              Cary   \n",
      "869   10/28/2016 18:13  10/28/2016 20:07  Business     Winston Salem   \n",
      "870   10/28/2016 20:13  10/28/2016 22:00  Business         Asheville   \n",
      "872   10/29/2016 17:13  10/29/2016 19:19  Business        Hayesville   \n",
      "879   10/30/2016 13:24  10/30/2016 14:37  Business       Bryson City   \n",
      "880   10/30/2016 15:22  10/30/2016 18:23  Business         Asheville   \n",
      "1087  12/21/2016 20:56  12/21/2016 23:42  Business        Rawalpindi   \n",
      "1154            Totals   6/28/2016 23:59  Business              Cary   \n",
      "\n",
      "                 STOP*   MILES*        PURPOSE*          START_DATE  \\\n",
      "4      West Palm Beach     63.7  Customer Visit 2016-01-06 14:42:00   \n",
      "232               Katy    136.0  Customer Visit 2016-03-17 12:52:00   \n",
      "251            Houston     57.0  Customer Visit 2016-03-19 19:33:00   \n",
      "268              Latta    144.0  Customer Visit 2016-03-25 13:24:00   \n",
      "269       Jacksonville    310.3  Customer Visit 2016-03-25 16:52:00   \n",
      "270          Kissimmee    201.0         Meeting 2016-03-25 22:54:00   \n",
      "295      Daytona Beach     77.3  Customer Visit 2016-04-02 12:21:00   \n",
      "296       Jacksonville     80.5  Customer Visit 2016-04-02 16:57:00   \n",
      "297          Ridgeland    174.2  Customer Visit 2016-04-02 19:38:00   \n",
      "298           Florence    144.0         Meeting 2016-04-02 23:11:00   \n",
      "299               Cary    159.3         Meeting 2016-04-03 02:00:00   \n",
      "545         Banner Elk    195.3         Meeting 2016-07-14 16:39:00   \n",
      "558               Cary    180.2         Commute 2016-07-17 12:20:00   \n",
      "706   Unknown Location     96.2         Meeting 2016-08-24 13:01:00   \n",
      "709   Unknown Location     50.4         Meeting 2016-08-25 17:19:00   \n",
      "725   Unknown Location     86.6         Meeting 2016-08-27 14:01:00   \n",
      "726   Unknown Location    156.9         Meeting 2016-08-27 16:15:00   \n",
      "750   Unknown Location     69.1         Meeting 2016-09-06 17:49:00   \n",
      "775   Unknown Location    195.6         Meeting 2016-09-27 21:01:00   \n",
      "787   Unknown Location    112.6         Meeting 2016-10-06 17:23:00   \n",
      "868      Winston Salem    107.0         Meeting 2016-10-28 15:53:00   \n",
      "869          Asheville    133.6         Meeting 2016-10-28 18:13:00   \n",
      "870             Topton     91.8         Meeting 2016-10-28 20:13:00   \n",
      "872             Topton     75.7         Meeting 2016-10-29 17:13:00   \n",
      "879          Asheville     68.4         Meeting 2016-10-30 13:24:00   \n",
      "880             Mebane    195.9         Meeting 2016-10-30 15:22:00   \n",
      "1087  Unknown Location    103.0         Meeting 2016-12-21 20:56:00   \n",
      "1154              Cary  12204.7         Meeting                 NaT   \n",
      "\n",
      "                END_DATE  COST_ESTIMATION*  \n",
      "4    2016-01-06 15:49:00             127.4  \n",
      "232  2016-03-17 15:11:00             272.0  \n",
      "251  2016-03-19 20:39:00             114.0  \n",
      "268  2016-03-25 16:22:00             288.0  \n",
      "269  2016-03-25 22:22:00             620.6  \n",
      "270  2016-03-26 01:39:00             402.0  \n",
      "295  2016-04-02 14:47:00             154.6  \n",
      "296  2016-04-02 18:09:00             161.0  \n",
      "297  2016-04-02 22:36:00             348.4  \n",
      "298  2016-04-03 01:34:00             288.0  \n",
      "299  2016-04-03 04:16:00             318.6  \n",
      "545  2016-07-14 20:05:00             390.6  \n",
      "558  2016-07-17 15:25:00             360.4  \n",
      "706  2016-08-24 15:25:00             192.4  \n",
      "709  2016-08-25 19:20:00             100.8  \n",
      "725  2016-08-27 15:44:00             173.2  \n",
      "726  2016-08-27 19:13:00             313.8  \n",
      "750  2016-09-06 17:49:00             138.2  \n",
      "775  2016-09-28 02:37:00             391.2  \n",
      "787  2016-10-06 17:40:00             225.2  \n",
      "868  2016-10-28 17:59:00             214.0  \n",
      "869  2016-10-28 20:07:00             267.2  \n",
      "870  2016-10-28 22:00:00             183.6  \n",
      "872  2016-10-29 19:19:00             151.4  \n",
      "879  2016-10-30 14:37:00             136.8  \n",
      "880  2016-10-30 18:23:00             391.8  \n",
      "1087 2016-12-21 23:42:00             206.0  \n",
      "1154 2016-06-28 23:59:00           24409.4  \n"
     ]
    }
   ],
   "source": [
    "filtered_rides = df[df['MILES*'] > 50]\n",
    "# print(filtered_rides[['CATEGORY*','MILES*']])\n",
    "print(filtered_rides)\n"
   ]
  },
  {
   "cell_type": "markdown",
   "id": "3fdffe93-a65e-4407-bd5b-daa9d20c6708",
   "metadata": {},
   "source": [
    "**Filter by specific purpose (e.g., meetings):**"
   ]
  },
  {
   "cell_type": "code",
   "execution_count": 43,
   "id": "f9f9ee23-b44d-4a9e-bcf9-f5c34c8a990e",
   "metadata": {},
   "outputs": [
    {
     "name": "stdout",
     "output_type": "stream",
     "text": [
      "           START_DATE*         END_DATE* CATEGORY*            START*  \\\n",
      "1        1/2/2016 1:25     1/2/2016 1:37  Business       Fort Pierce   \n",
      "3       1/5/2016 17:31    1/5/2016 17:45  Business       Fort Pierce   \n",
      "6       1/6/2016 17:30    1/6/2016 17:35  Business   West Palm Beach   \n",
      "7       1/7/2016 13:27    1/7/2016 13:33  Business              Cary   \n",
      "8       1/10/2016 8:05    1/10/2016 8:25  Business              Cary   \n",
      "...                ...               ...       ...               ...   \n",
      "1143  12/29/2016 23:14  12/29/2016 23:47  Business  Unknown Location   \n",
      "1147  12/30/2016 16:45  12/30/2016 17:08  Business           Kar?chi   \n",
      "1149   12/31/2016 1:07   12/31/2016 1:14  Business           Kar?chi   \n",
      "1151  12/31/2016 15:03  12/31/2016 15:38  Business  Unknown Location   \n",
      "1154            Totals   6/28/2016 23:59  Business              Cary   \n",
      "\n",
      "                 STOP*   MILES* PURPOSE*          START_DATE  \\\n",
      "1          Fort Pierce      5.0  Meeting 2016-01-02 01:25:00   \n",
      "3          Fort Pierce      4.7  Meeting 2016-01-05 17:31:00   \n",
      "6           Palm Beach      7.1  Meeting 2016-01-06 17:30:00   \n",
      "7                 Cary      0.8  Meeting 2016-01-07 13:27:00   \n",
      "8          Morrisville      8.3  Meeting 2016-01-10 08:05:00   \n",
      "...                ...      ...      ...                 ...   \n",
      "1143           Kar?chi     12.9  Meeting 2016-12-29 23:14:00   \n",
      "1147           Kar?chi      4.6  Meeting 2016-12-30 16:45:00   \n",
      "1149           Kar?chi      0.7  Meeting 2016-12-31 01:07:00   \n",
      "1151  Unknown Location     16.2  Meeting 2016-12-31 15:03:00   \n",
      "1154              Cary  12204.7  Meeting                 NaT   \n",
      "\n",
      "                END_DATE  COST_ESTIMATION*  \n",
      "1    2016-01-02 01:37:00              10.0  \n",
      "3    2016-01-05 17:45:00               9.4  \n",
      "6    2016-01-06 17:35:00              14.2  \n",
      "7    2016-01-07 13:33:00               1.6  \n",
      "8    2016-01-10 08:25:00              16.6  \n",
      "...                  ...               ...  \n",
      "1143 2016-12-29 23:47:00              25.8  \n",
      "1147 2016-12-30 17:08:00               9.2  \n",
      "1149 2016-12-31 01:14:00               1.4  \n",
      "1151 2016-12-31 15:38:00              32.4  \n",
      "1154 2016-06-28 23:59:00           24409.4  \n",
      "\n",
      "[689 rows x 10 columns]\n",
      "           START_DATE*         END_DATE* CATEGORY*            START*  \\\n",
      "4       1/6/2016 14:42    1/6/2016 15:49  Business       Fort Pierce   \n",
      "9      1/10/2016 12:17   1/10/2016 12:44  Business           Jamaica   \n",
      "20     1/12/2016 15:13   1/12/2016 15:28  Business     Hudson Square   \n",
      "25     1/14/2016 16:29   1/14/2016 17:05  Business           Houston   \n",
      "36     1/20/2016 13:25   1/20/2016 14:19  Business           Raleigh   \n",
      "...                ...               ...       ...               ...   \n",
      "1116  12/26/2016 11:29  12/26/2016 11:42  Business            Lahore   \n",
      "1121  12/27/2016 14:49  12/27/2016 15:03  Business           Kar?chi   \n",
      "1123  12/27/2016 19:19  12/27/2016 19:50  Business           Kar?chi   \n",
      "1140  12/29/2016 19:50  12/29/2016 20:10  Business  Unknown Location   \n",
      "1148  12/30/2016 23:06  12/30/2016 23:10  Business           Kar?chi   \n",
      "\n",
      "                 STOP*  MILES*        PURPOSE*          START_DATE  \\\n",
      "4      West Palm Beach    63.7  Customer Visit 2016-01-06 14:42:00   \n",
      "9             New York    16.5  Customer Visit 2016-01-10 12:17:00   \n",
      "20      Hell's Kitchen     2.4  Customer Visit 2016-01-12 15:13:00   \n",
      "25             Houston    21.9  Customer Visit 2016-01-14 16:29:00   \n",
      "36                Cary    40.2  Customer Visit 2016-01-20 13:25:00   \n",
      "...                ...     ...             ...                 ...   \n",
      "1116            Lahore     3.8  Customer Visit 2016-12-26 11:29:00   \n",
      "1121  Unknown Location     3.1  Customer Visit 2016-12-27 14:49:00   \n",
      "1123           Kar?chi     5.5  Customer Visit 2016-12-27 19:19:00   \n",
      "1140           Kar?chi     4.1  Customer Visit 2016-12-29 19:50:00   \n",
      "1148           Kar?chi     0.8  Customer Visit 2016-12-30 23:06:00   \n",
      "\n",
      "                END_DATE  COST_ESTIMATION*  \n",
      "4    2016-01-06 15:49:00             127.4  \n",
      "9    2016-01-10 12:44:00              33.0  \n",
      "20   2016-01-12 15:28:00               4.8  \n",
      "25   2016-01-14 17:05:00              43.8  \n",
      "36   2016-01-20 14:19:00              80.4  \n",
      "...                  ...               ...  \n",
      "1116 2016-12-26 11:42:00               7.6  \n",
      "1121 2016-12-27 15:03:00               6.2  \n",
      "1123 2016-12-27 19:50:00              11.0  \n",
      "1140 2016-12-29 20:10:00               8.2  \n",
      "1148 2016-12-30 23:10:00               1.6  \n",
      "\n",
      "[101 rows x 10 columns]\n"
     ]
    }
   ],
   "source": [
    "rides1 = df[df['PURPOSE*'] == 'Meeting']\n",
    "rides2 = df[df['PURPOSE*'] == 'Customer Visit']\n",
    "print(rides1)\n",
    "print(rides2)"
   ]
  },
  {
   "cell_type": "markdown",
   "id": "82ee3d4d-523b-4a28-a9c1-28149eb65a29",
   "metadata": {},
   "source": [
    "**What is the total number of business trips versus personal trips?**"
   ]
  },
  {
   "cell_type": "code",
   "execution_count": 47,
   "id": "9cb8d272-ecb0-4b42-84b8-32577bbf635c",
   "metadata": {},
   "outputs": [
    {
     "name": "stdout",
     "output_type": "stream",
     "text": [
      "CATEGORY*\n",
      "Business    1078\n",
      "Personal      77\n",
      "Name: count, dtype: int64\n"
     ]
    }
   ],
   "source": [
    "trip_counts = df['CATEGORY*'].value_counts()\n",
    "print(trip_counts)"
   ]
  },
  {
   "cell_type": "markdown",
   "id": "4b246fa1-cd11-46f7-bf7d-bd287536cf7c",
   "metadata": {},
   "source": [
    "**What percentage of trips are business versus personal?**"
   ]
  },
  {
   "cell_type": "code",
   "execution_count": 48,
   "id": "4a2e19b9-5584-4c45-9d9e-642cf1aefabb",
   "metadata": {},
   "outputs": [],
   "source": [
    "num_business_trips = df[df['CATEGORY*'] == 'Business'].shape[0] \n",
    "\n",
    "num_personal_trips = df[df['CATEGORY*'] == 'Personal'].shape[0]"
   ]
  },
  {
   "cell_type": "code",
   "execution_count": 49,
   "id": "3ba9ff0a-473c-4b84-ae42-fb74b3363d93",
   "metadata": {},
   "outputs": [
    {
     "name": "stdout",
     "output_type": "stream",
     "text": [
      "Percentage of Business Trips: 93.33%\n",
      "Percentage of Personal Trips: 6.67%\n"
     ]
    }
   ],
   "source": [
    "total_trips = len(df)\n",
    "\n",
    "business_trip_percentage = (num_business_trips / total_trips) * 100\n",
    "personal_trip_percentage = 100 - business_trip_percentage \n",
    "\n",
    "print(f\"Percentage of Business Trips: {business_trip_percentage:.2f}%\")\n",
    "print(f\"Percentage of Personal Trips: {personal_trip_percentage:.2f}%\")"
   ]
  },
  {
   "cell_type": "code",
   "execution_count": null,
   "id": "4e9ea900",
   "metadata": {},
   "outputs": [],
   "source": []
  }
 ],
 "metadata": {
  "kernelspec": {
   "display_name": "Python 3 (ipykernel)",
   "language": "python",
   "name": "python3"
  },
  "language_info": {
   "codemirror_mode": {
    "name": "ipython",
    "version": 3
   },
   "file_extension": ".py",
   "mimetype": "text/x-python",
   "name": "python",
   "nbconvert_exporter": "python",
   "pygments_lexer": "ipython3",
   "version": "3.11.5"
  }
 },
 "nbformat": 4,
 "nbformat_minor": 5
}
